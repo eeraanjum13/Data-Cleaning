{
  "nbformat": 4,
  "nbformat_minor": 0,
  "metadata": {
    "colab": {
      "name": "Chaldal_DS_2.ipynb",
      "provenance": [],
      "collapsed_sections": []
    },
    "kernelspec": {
      "name": "python3",
      "display_name": "Python 3"
    },
    "language_info": {
      "name": "python"
    }
  },
  "cells": [
    {
      "cell_type": "code",
      "metadata": {
        "id": "dlwCkArhRs6B"
      },
      "source": [
        "import numpy as np\n",
        "import pandas as pd\n"
      ],
      "execution_count": null,
      "outputs": []
    },
    {
      "cell_type": "code",
      "metadata": {
        "id": "yEA99P2vR7rR"
      },
      "source": [
        "df= pd.read_csv(\"Products.csv\")"
      ],
      "execution_count": null,
      "outputs": []
    },
    {
      "cell_type": "code",
      "metadata": {
        "colab": {
          "base_uri": "https://localhost:8080/",
          "height": 359
        },
        "id": "6B8QmUe0SEtS",
        "outputId": "06a74259-7e5f-4a79-e78b-a08edfd4ffaf"
      },
      "source": [
        "df.head(10)"
      ],
      "execution_count": null,
      "outputs": [
        {
          "output_type": "execute_result",
          "data": {
            "text/html": [
              "<div>\n",
              "<style scoped>\n",
              "    .dataframe tbody tr th:only-of-type {\n",
              "        vertical-align: middle;\n",
              "    }\n",
              "\n",
              "    .dataframe tbody tr th {\n",
              "        vertical-align: top;\n",
              "    }\n",
              "\n",
              "    .dataframe thead th {\n",
              "        text-align: right;\n",
              "    }\n",
              "</style>\n",
              "<table border=\"1\" class=\"dataframe\">\n",
              "  <thead>\n",
              "    <tr style=\"text-align: right;\">\n",
              "      <th></th>\n",
              "      <th>Product Id</th>\n",
              "      <th>Weight (kg)</th>\n",
              "      <th>Length (m)</th>\n",
              "      <th>Width (m)</th>\n",
              "      <th>Height (m)</th>\n",
              "    </tr>\n",
              "  </thead>\n",
              "  <tbody>\n",
              "    <tr>\n",
              "      <th>0</th>\n",
              "      <td>44331</td>\n",
              "      <td>1.025</td>\n",
              "      <td>0.2286</td>\n",
              "      <td>0.1524</td>\n",
              "      <td>0.0508</td>\n",
              "    </tr>\n",
              "    <tr>\n",
              "      <th>1</th>\n",
              "      <td>44352</td>\n",
              "      <td>0.504</td>\n",
              "      <td>0.14</td>\n",
              "      <td>0.04</td>\n",
              "      <td>0.16</td>\n",
              "    </tr>\n",
              "    <tr>\n",
              "      <th>2</th>\n",
              "      <td>44373</td>\n",
              "      <td>0.488</td>\n",
              "      <td>0.105</td>\n",
              "      <td>0.105</td>\n",
              "      <td>0.075</td>\n",
              "    </tr>\n",
              "    <tr>\n",
              "      <th>3</th>\n",
              "      <td>44394</td>\n",
              "      <td>1.0028</td>\n",
              "      <td>0.11</td>\n",
              "      <td>0.11</td>\n",
              "      <td>0.15</td>\n",
              "    </tr>\n",
              "    <tr>\n",
              "      <th>4</th>\n",
              "      <td>44415</td>\n",
              "      <td>0.55</td>\n",
              "      <td>0.13</td>\n",
              "      <td>0.13</td>\n",
              "      <td>0.11</td>\n",
              "    </tr>\n",
              "    <tr>\n",
              "      <th>5</th>\n",
              "      <td>44436</td>\n",
              "      <td>0.045</td>\n",
              "      <td>0.08</td>\n",
              "      <td>0.08</td>\n",
              "      <td>0.26</td>\n",
              "    </tr>\n",
              "    <tr>\n",
              "      <th>6</th>\n",
              "      <td>44457</td>\n",
              "      <td>0.224</td>\n",
              "      <td>0.15</td>\n",
              "      <td>0.13</td>\n",
              "      <td>0.03</td>\n",
              "    </tr>\n",
              "    <tr>\n",
              "      <th>7</th>\n",
              "      <td>44478</td>\n",
              "      <td>0.246</td>\n",
              "      <td>0.13</td>\n",
              "      <td>0.03</td>\n",
              "      <td>0.14</td>\n",
              "    </tr>\n",
              "    <tr>\n",
              "      <th>8</th>\n",
              "      <td>44499</td>\n",
              "      <td>2.003</td>\n",
              "      <td>0.36</td>\n",
              "      <td>0.26</td>\n",
              "      <td>0.04</td>\n",
              "    </tr>\n",
              "    <tr>\n",
              "      <th>9</th>\n",
              "      <td>44520</td>\n",
              "      <td>1.0018</td>\n",
              "      <td>0.28</td>\n",
              "      <td>0.21</td>\n",
              "      <td>0.05</td>\n",
              "    </tr>\n",
              "  </tbody>\n",
              "</table>\n",
              "</div>"
            ],
            "text/plain": [
              "   Product Id Weight (kg) Length (m) Width (m) Height (m)\n",
              "0       44331       1.025     0.2286    0.1524     0.0508\n",
              "1       44352       0.504       0.14      0.04       0.16\n",
              "2       44373       0.488      0.105     0.105      0.075\n",
              "3       44394      1.0028       0.11      0.11       0.15\n",
              "4       44415        0.55       0.13      0.13       0.11\n",
              "5       44436       0.045       0.08      0.08       0.26\n",
              "6       44457       0.224       0.15      0.13       0.03\n",
              "7       44478       0.246       0.13      0.03       0.14\n",
              "8       44499       2.003       0.36      0.26       0.04\n",
              "9       44520      1.0018       0.28      0.21       0.05"
            ]
          },
          "metadata": {
            "tags": []
          },
          "execution_count": 4
        }
      ]
    },
    {
      "cell_type": "code",
      "metadata": {
        "colab": {
          "base_uri": "https://localhost:8080/"
        },
        "id": "hvt4xjxwI2vF",
        "outputId": "0c126295-96d5-4deb-ef40-c3112bb6f49f"
      },
      "source": [
        "df.info()"
      ],
      "execution_count": null,
      "outputs": [
        {
          "output_type": "stream",
          "text": [
            "<class 'pandas.core.frame.DataFrame'>\n",
            "RangeIndex: 3058 entries, 0 to 3057\n",
            "Data columns (total 5 columns):\n",
            " #   Column       Non-Null Count  Dtype \n",
            "---  ------       --------------  ----- \n",
            " 0   Product Id   3058 non-null   int64 \n",
            " 1   Weight (kg)  3054 non-null   object\n",
            " 2   Length (m)   3053 non-null   object\n",
            " 3   Width (m)    3056 non-null   object\n",
            " 4   Height (m)   3054 non-null   object\n",
            "dtypes: int64(1), object(4)\n",
            "memory usage: 119.6+ KB\n"
          ],
          "name": "stdout"
        }
      ]
    },
    {
      "cell_type": "markdown",
      "metadata": {
        "id": "JuWiEzVHI6TU"
      },
      "source": [
        "Seems like the Weight, Length, Width and Heights are all in \"string\" instead of integer type.\n",
        "\n",
        "**Turning all the string values to Integer values as these features should be in Integer type. The number characters will turn to integer, any other invalid strings will convert to NaN**\n",
        "\n",
        "\n"
      ]
    },
    {
      "cell_type": "code",
      "metadata": {
        "id": "ArediGukL3eu"
      },
      "source": [
        "df[[\"height_int\",\"weight_int\",\"width_int\",\"length_int\"]]= df[[\"Height (m)\", \"Weight (kg)\", \"Width (m)\", \"Length (m)\" ]].apply(pd.to_numeric, errors='coerce')\n",
        "# errors='coerce' is used for handling any string data that cannot be converted to int. The invalid string will be \n",
        "#replaced as NaN."
      ],
      "execution_count": null,
      "outputs": []
    },
    {
      "cell_type": "code",
      "metadata": {
        "colab": {
          "base_uri": "https://localhost:8080/",
          "height": 204
        },
        "id": "tkeFSQL_PGA3",
        "outputId": "499f0b1a-1a77-46e9-8bd9-53e851908753"
      },
      "source": [
        "df.head(5)"
      ],
      "execution_count": null,
      "outputs": [
        {
          "output_type": "execute_result",
          "data": {
            "text/html": [
              "<div>\n",
              "<style scoped>\n",
              "    .dataframe tbody tr th:only-of-type {\n",
              "        vertical-align: middle;\n",
              "    }\n",
              "\n",
              "    .dataframe tbody tr th {\n",
              "        vertical-align: top;\n",
              "    }\n",
              "\n",
              "    .dataframe thead th {\n",
              "        text-align: right;\n",
              "    }\n",
              "</style>\n",
              "<table border=\"1\" class=\"dataframe\">\n",
              "  <thead>\n",
              "    <tr style=\"text-align: right;\">\n",
              "      <th></th>\n",
              "      <th>Product Id</th>\n",
              "      <th>Weight (kg)</th>\n",
              "      <th>Length (m)</th>\n",
              "      <th>Width (m)</th>\n",
              "      <th>Height (m)</th>\n",
              "      <th>height_int</th>\n",
              "      <th>weight_int</th>\n",
              "      <th>width_int</th>\n",
              "      <th>length_int</th>\n",
              "    </tr>\n",
              "  </thead>\n",
              "  <tbody>\n",
              "    <tr>\n",
              "      <th>0</th>\n",
              "      <td>44331</td>\n",
              "      <td>1.025</td>\n",
              "      <td>0.2286</td>\n",
              "      <td>0.1524</td>\n",
              "      <td>0.0508</td>\n",
              "      <td>0.0508</td>\n",
              "      <td>1.0250</td>\n",
              "      <td>0.1524</td>\n",
              "      <td>0.2286</td>\n",
              "    </tr>\n",
              "    <tr>\n",
              "      <th>1</th>\n",
              "      <td>44352</td>\n",
              "      <td>0.504</td>\n",
              "      <td>0.14</td>\n",
              "      <td>0.04</td>\n",
              "      <td>0.16</td>\n",
              "      <td>0.1600</td>\n",
              "      <td>0.5040</td>\n",
              "      <td>0.0400</td>\n",
              "      <td>0.1400</td>\n",
              "    </tr>\n",
              "    <tr>\n",
              "      <th>2</th>\n",
              "      <td>44373</td>\n",
              "      <td>0.488</td>\n",
              "      <td>0.105</td>\n",
              "      <td>0.105</td>\n",
              "      <td>0.075</td>\n",
              "      <td>0.0750</td>\n",
              "      <td>0.4880</td>\n",
              "      <td>0.1050</td>\n",
              "      <td>0.1050</td>\n",
              "    </tr>\n",
              "    <tr>\n",
              "      <th>3</th>\n",
              "      <td>44394</td>\n",
              "      <td>1.0028</td>\n",
              "      <td>0.11</td>\n",
              "      <td>0.11</td>\n",
              "      <td>0.15</td>\n",
              "      <td>0.1500</td>\n",
              "      <td>1.0028</td>\n",
              "      <td>0.1100</td>\n",
              "      <td>0.1100</td>\n",
              "    </tr>\n",
              "    <tr>\n",
              "      <th>4</th>\n",
              "      <td>44415</td>\n",
              "      <td>0.55</td>\n",
              "      <td>0.13</td>\n",
              "      <td>0.13</td>\n",
              "      <td>0.11</td>\n",
              "      <td>0.1100</td>\n",
              "      <td>0.5500</td>\n",
              "      <td>0.1300</td>\n",
              "      <td>0.1300</td>\n",
              "    </tr>\n",
              "  </tbody>\n",
              "</table>\n",
              "</div>"
            ],
            "text/plain": [
              "   Product Id Weight (kg) Length (m)  ... weight_int width_int  length_int\n",
              "0       44331       1.025     0.2286  ...     1.0250    0.1524      0.2286\n",
              "1       44352       0.504       0.14  ...     0.5040    0.0400      0.1400\n",
              "2       44373       0.488      0.105  ...     0.4880    0.1050      0.1050\n",
              "3       44394      1.0028       0.11  ...     1.0028    0.1100      0.1100\n",
              "4       44415        0.55       0.13  ...     0.5500    0.1300      0.1300\n",
              "\n",
              "[5 rows x 9 columns]"
            ]
          },
          "metadata": {
            "tags": []
          },
          "execution_count": 7
        }
      ]
    },
    {
      "cell_type": "markdown",
      "metadata": {
        "id": "VqSBYLK_7Ztr"
      },
      "source": [
        "Checking for Rows with all 0 values "
      ]
    },
    {
      "cell_type": "code",
      "metadata": {
        "colab": {
          "base_uri": "https://localhost:8080/",
          "height": 419
        },
        "id": "r9s4eccYP4yd",
        "outputId": "8b9dcbcf-6257-4677-d2d2-75c896f0a8e0"
      },
      "source": [
        "outputofzerovals_all= df[(df['height_int']==0) | (df['weight_int']==0) | (df['length_int']==0) | (df['width_int']==0)]\n",
        "outputofzerovals_all"
      ],
      "execution_count": null,
      "outputs": [
        {
          "output_type": "execute_result",
          "data": {
            "text/html": [
              "<div>\n",
              "<style scoped>\n",
              "    .dataframe tbody tr th:only-of-type {\n",
              "        vertical-align: middle;\n",
              "    }\n",
              "\n",
              "    .dataframe tbody tr th {\n",
              "        vertical-align: top;\n",
              "    }\n",
              "\n",
              "    .dataframe thead th {\n",
              "        text-align: right;\n",
              "    }\n",
              "</style>\n",
              "<table border=\"1\" class=\"dataframe\">\n",
              "  <thead>\n",
              "    <tr style=\"text-align: right;\">\n",
              "      <th></th>\n",
              "      <th>Product Id</th>\n",
              "      <th>Weight (kg)</th>\n",
              "      <th>Length (m)</th>\n",
              "      <th>Width (m)</th>\n",
              "      <th>Height (m)</th>\n",
              "      <th>height_int</th>\n",
              "      <th>weight_int</th>\n",
              "      <th>width_int</th>\n",
              "      <th>length_int</th>\n",
              "    </tr>\n",
              "  </thead>\n",
              "  <tbody>\n",
              "    <tr>\n",
              "      <th>12</th>\n",
              "      <td>44583</td>\n",
              "      <td>0</td>\n",
              "      <td>0</td>\n",
              "      <td>0</td>\n",
              "      <td>0</td>\n",
              "      <td>0.0</td>\n",
              "      <td>0.0</td>\n",
              "      <td>0.0</td>\n",
              "      <td>0.0</td>\n",
              "    </tr>\n",
              "    <tr>\n",
              "      <th>21</th>\n",
              "      <td>44772</td>\n",
              "      <td>0</td>\n",
              "      <td>0</td>\n",
              "      <td>0</td>\n",
              "      <td>0</td>\n",
              "      <td>0.0</td>\n",
              "      <td>0.0</td>\n",
              "      <td>0.0</td>\n",
              "      <td>0.0</td>\n",
              "    </tr>\n",
              "    <tr>\n",
              "      <th>25</th>\n",
              "      <td>44856</td>\n",
              "      <td>0</td>\n",
              "      <td>0</td>\n",
              "      <td>0</td>\n",
              "      <td>0</td>\n",
              "      <td>0.0</td>\n",
              "      <td>0.0</td>\n",
              "      <td>0.0</td>\n",
              "      <td>0.0</td>\n",
              "    </tr>\n",
              "    <tr>\n",
              "      <th>27</th>\n",
              "      <td>44898</td>\n",
              "      <td>0</td>\n",
              "      <td>0</td>\n",
              "      <td>0</td>\n",
              "      <td>0</td>\n",
              "      <td>0.0</td>\n",
              "      <td>0.0</td>\n",
              "      <td>0.0</td>\n",
              "      <td>0.0</td>\n",
              "    </tr>\n",
              "    <tr>\n",
              "      <th>28</th>\n",
              "      <td>44919</td>\n",
              "      <td>0</td>\n",
              "      <td>0</td>\n",
              "      <td>0</td>\n",
              "      <td>0</td>\n",
              "      <td>0.0</td>\n",
              "      <td>0.0</td>\n",
              "      <td>0.0</td>\n",
              "      <td>0.0</td>\n",
              "    </tr>\n",
              "    <tr>\n",
              "      <th>...</th>\n",
              "      <td>...</td>\n",
              "      <td>...</td>\n",
              "      <td>...</td>\n",
              "      <td>...</td>\n",
              "      <td>...</td>\n",
              "      <td>...</td>\n",
              "      <td>...</td>\n",
              "      <td>...</td>\n",
              "      <td>...</td>\n",
              "    </tr>\n",
              "    <tr>\n",
              "      <th>3045</th>\n",
              "      <td>129066</td>\n",
              "      <td>0</td>\n",
              "      <td>0</td>\n",
              "      <td>0</td>\n",
              "      <td>0</td>\n",
              "      <td>0.0</td>\n",
              "      <td>0.0</td>\n",
              "      <td>0.0</td>\n",
              "      <td>0.0</td>\n",
              "    </tr>\n",
              "    <tr>\n",
              "      <th>3047</th>\n",
              "      <td>129108</td>\n",
              "      <td>0</td>\n",
              "      <td>0</td>\n",
              "      <td>0</td>\n",
              "      <td>0</td>\n",
              "      <td>0.0</td>\n",
              "      <td>0.0</td>\n",
              "      <td>0.0</td>\n",
              "      <td>0.0</td>\n",
              "    </tr>\n",
              "    <tr>\n",
              "      <th>3049</th>\n",
              "      <td>129150</td>\n",
              "      <td>0</td>\n",
              "      <td>0</td>\n",
              "      <td>0</td>\n",
              "      <td>0</td>\n",
              "      <td>0.0</td>\n",
              "      <td>0.0</td>\n",
              "      <td>0.0</td>\n",
              "      <td>0.0</td>\n",
              "    </tr>\n",
              "    <tr>\n",
              "      <th>3052</th>\n",
              "      <td>129213</td>\n",
              "      <td>0</td>\n",
              "      <td>0</td>\n",
              "      <td>0</td>\n",
              "      <td>0</td>\n",
              "      <td>0.0</td>\n",
              "      <td>0.0</td>\n",
              "      <td>0.0</td>\n",
              "      <td>0.0</td>\n",
              "    </tr>\n",
              "    <tr>\n",
              "      <th>3056</th>\n",
              "      <td>129297</td>\n",
              "      <td>0</td>\n",
              "      <td>0</td>\n",
              "      <td>0</td>\n",
              "      <td>0</td>\n",
              "      <td>0.0</td>\n",
              "      <td>0.0</td>\n",
              "      <td>0.0</td>\n",
              "      <td>0.0</td>\n",
              "    </tr>\n",
              "  </tbody>\n",
              "</table>\n",
              "<p>1524 rows × 9 columns</p>\n",
              "</div>"
            ],
            "text/plain": [
              "      Product Id Weight (kg) Length (m)  ... weight_int width_int  length_int\n",
              "12         44583           0          0  ...        0.0       0.0         0.0\n",
              "21         44772           0          0  ...        0.0       0.0         0.0\n",
              "25         44856           0          0  ...        0.0       0.0         0.0\n",
              "27         44898           0          0  ...        0.0       0.0         0.0\n",
              "28         44919           0          0  ...        0.0       0.0         0.0\n",
              "...          ...         ...        ...  ...        ...       ...         ...\n",
              "3045      129066           0          0  ...        0.0       0.0         0.0\n",
              "3047      129108           0          0  ...        0.0       0.0         0.0\n",
              "3049      129150           0          0  ...        0.0       0.0         0.0\n",
              "3052      129213           0          0  ...        0.0       0.0         0.0\n",
              "3056      129297           0          0  ...        0.0       0.0         0.0\n",
              "\n",
              "[1524 rows x 9 columns]"
            ]
          },
          "metadata": {
            "tags": []
          },
          "execution_count": 8
        }
      ]
    },
    {
      "cell_type": "markdown",
      "metadata": {
        "id": "l_vKXQMgQaKd"
      },
      "source": [
        "**More than 1500 rows are consisting of all zeroes value columns. Hence, case deletion will not be ideal.**"
      ]
    },
    {
      "cell_type": "markdown",
      "metadata": {
        "id": "keUvzGW07o4j"
      },
      "source": [
        "Dropping the Previous columns with invalid strings and invalid type data, keeping only the converted ones."
      ]
    },
    {
      "cell_type": "code",
      "metadata": {
        "colab": {
          "base_uri": "https://localhost:8080/",
          "height": 111
        },
        "id": "GsfvaT_NRDmo",
        "outputId": "bc2b4bd9-b368-4295-e785-e1a885eea9bf"
      },
      "source": [
        "df.drop(columns=['Weight (kg)', 'Length (m)', 'Width (m)', 'Height (m)'], inplace=True)\n",
        "df.head(2)"
      ],
      "execution_count": null,
      "outputs": [
        {
          "output_type": "execute_result",
          "data": {
            "text/html": [
              "<div>\n",
              "<style scoped>\n",
              "    .dataframe tbody tr th:only-of-type {\n",
              "        vertical-align: middle;\n",
              "    }\n",
              "\n",
              "    .dataframe tbody tr th {\n",
              "        vertical-align: top;\n",
              "    }\n",
              "\n",
              "    .dataframe thead th {\n",
              "        text-align: right;\n",
              "    }\n",
              "</style>\n",
              "<table border=\"1\" class=\"dataframe\">\n",
              "  <thead>\n",
              "    <tr style=\"text-align: right;\">\n",
              "      <th></th>\n",
              "      <th>Product Id</th>\n",
              "      <th>height_int</th>\n",
              "      <th>weight_int</th>\n",
              "      <th>width_int</th>\n",
              "      <th>length_int</th>\n",
              "    </tr>\n",
              "  </thead>\n",
              "  <tbody>\n",
              "    <tr>\n",
              "      <th>0</th>\n",
              "      <td>44331</td>\n",
              "      <td>0.0508</td>\n",
              "      <td>1.025</td>\n",
              "      <td>0.1524</td>\n",
              "      <td>0.2286</td>\n",
              "    </tr>\n",
              "    <tr>\n",
              "      <th>1</th>\n",
              "      <td>44352</td>\n",
              "      <td>0.1600</td>\n",
              "      <td>0.504</td>\n",
              "      <td>0.0400</td>\n",
              "      <td>0.1400</td>\n",
              "    </tr>\n",
              "  </tbody>\n",
              "</table>\n",
              "</div>"
            ],
            "text/plain": [
              "   Product Id  height_int  weight_int  width_int  length_int\n",
              "0       44331      0.0508       1.025     0.1524      0.2286\n",
              "1       44352      0.1600       0.504     0.0400      0.1400"
            ]
          },
          "metadata": {
            "tags": []
          },
          "execution_count": 9
        }
      ]
    },
    {
      "cell_type": "markdown",
      "metadata": {
        "id": "DdT2pyJ_73Lk"
      },
      "source": [
        "Rows with **any** NaN in their columns"
      ]
    },
    {
      "cell_type": "code",
      "metadata": {
        "colab": {
          "base_uri": "https://localhost:8080/",
          "height": 1000
        },
        "id": "-9nWSwGkQ4gO",
        "outputId": "2005b7b1-7c52-4ffa-8899-6547363656bc"
      },
      "source": [
        "df[df.isna().any(axis=1)] #Rows with any NaN in their columns"
      ],
      "execution_count": null,
      "outputs": [
        {
          "output_type": "execute_result",
          "data": {
            "text/html": [
              "<div>\n",
              "<style scoped>\n",
              "    .dataframe tbody tr th:only-of-type {\n",
              "        vertical-align: middle;\n",
              "    }\n",
              "\n",
              "    .dataframe tbody tr th {\n",
              "        vertical-align: top;\n",
              "    }\n",
              "\n",
              "    .dataframe thead th {\n",
              "        text-align: right;\n",
              "    }\n",
              "</style>\n",
              "<table border=\"1\" class=\"dataframe\">\n",
              "  <thead>\n",
              "    <tr style=\"text-align: right;\">\n",
              "      <th></th>\n",
              "      <th>Product Id</th>\n",
              "      <th>height_int</th>\n",
              "      <th>weight_int</th>\n",
              "      <th>width_int</th>\n",
              "      <th>length_int</th>\n",
              "    </tr>\n",
              "  </thead>\n",
              "  <tbody>\n",
              "    <tr>\n",
              "      <th>33</th>\n",
              "      <td>45024</td>\n",
              "      <td>0.0762</td>\n",
              "      <td>NaN</td>\n",
              "      <td>0.2286</td>\n",
              "      <td>0.1143</td>\n",
              "    </tr>\n",
              "    <tr>\n",
              "      <th>46</th>\n",
              "      <td>45297</td>\n",
              "      <td>0.0700</td>\n",
              "      <td>0.022</td>\n",
              "      <td>0.1600</td>\n",
              "      <td>NaN</td>\n",
              "    </tr>\n",
              "    <tr>\n",
              "      <th>94</th>\n",
              "      <td>46305</td>\n",
              "      <td>NaN</td>\n",
              "      <td>1.004</td>\n",
              "      <td>0.1900</td>\n",
              "      <td>0.2600</td>\n",
              "    </tr>\n",
              "    <tr>\n",
              "      <th>122</th>\n",
              "      <td>46893</td>\n",
              "      <td>0.0300</td>\n",
              "      <td>NaN</td>\n",
              "      <td>0.1200</td>\n",
              "      <td>0.1600</td>\n",
              "    </tr>\n",
              "    <tr>\n",
              "      <th>157</th>\n",
              "      <td>47628</td>\n",
              "      <td>NaN</td>\n",
              "      <td>0.144</td>\n",
              "      <td>0.0500</td>\n",
              "      <td>0.0600</td>\n",
              "    </tr>\n",
              "    <tr>\n",
              "      <th>188</th>\n",
              "      <td>48279</td>\n",
              "      <td>0.1524</td>\n",
              "      <td>NaN</td>\n",
              "      <td>0.0900</td>\n",
              "      <td>0.1400</td>\n",
              "    </tr>\n",
              "    <tr>\n",
              "      <th>236</th>\n",
              "      <td>49287</td>\n",
              "      <td>0.1300</td>\n",
              "      <td>0.278</td>\n",
              "      <td>NaN</td>\n",
              "      <td>0.1300</td>\n",
              "    </tr>\n",
              "    <tr>\n",
              "      <th>284</th>\n",
              "      <td>50295</td>\n",
              "      <td>0.0000</td>\n",
              "      <td>0.000</td>\n",
              "      <td>0.0000</td>\n",
              "      <td>NaN</td>\n",
              "    </tr>\n",
              "    <tr>\n",
              "      <th>285</th>\n",
              "      <td>50316</td>\n",
              "      <td>0.0300</td>\n",
              "      <td>0.005</td>\n",
              "      <td>0.0900</td>\n",
              "      <td>NaN</td>\n",
              "    </tr>\n",
              "    <tr>\n",
              "      <th>353</th>\n",
              "      <td>51744</td>\n",
              "      <td>0.0000</td>\n",
              "      <td>0.000</td>\n",
              "      <td>0.0000</td>\n",
              "      <td>NaN</td>\n",
              "    </tr>\n",
              "    <tr>\n",
              "      <th>381</th>\n",
              "      <td>52332</td>\n",
              "      <td>NaN</td>\n",
              "      <td>1.900</td>\n",
              "      <td>0.1000</td>\n",
              "      <td>0.1000</td>\n",
              "    </tr>\n",
              "    <tr>\n",
              "      <th>424</th>\n",
              "      <td>53235</td>\n",
              "      <td>0.1020</td>\n",
              "      <td>NaN</td>\n",
              "      <td>0.0800</td>\n",
              "      <td>0.0800</td>\n",
              "    </tr>\n",
              "    <tr>\n",
              "      <th>552</th>\n",
              "      <td>55923</td>\n",
              "      <td>0.0200</td>\n",
              "      <td>0.012</td>\n",
              "      <td>0.0100</td>\n",
              "      <td>NaN</td>\n",
              "    </tr>\n",
              "    <tr>\n",
              "      <th>614</th>\n",
              "      <td>57225</td>\n",
              "      <td>0.0200</td>\n",
              "      <td>0.766</td>\n",
              "      <td>NaN</td>\n",
              "      <td>0.2200</td>\n",
              "    </tr>\n",
              "    <tr>\n",
              "      <th>671</th>\n",
              "      <td>58422</td>\n",
              "      <td>0.0500</td>\n",
              "      <td>NaN</td>\n",
              "      <td>0.0900</td>\n",
              "      <td>0.0900</td>\n",
              "    </tr>\n",
              "    <tr>\n",
              "      <th>708</th>\n",
              "      <td>59199</td>\n",
              "      <td>NaN</td>\n",
              "      <td>0.072</td>\n",
              "      <td>0.0650</td>\n",
              "      <td>0.1350</td>\n",
              "    </tr>\n",
              "    <tr>\n",
              "      <th>727</th>\n",
              "      <td>59598</td>\n",
              "      <td>0.1400</td>\n",
              "      <td>0.130</td>\n",
              "      <td>NaN</td>\n",
              "      <td>0.0600</td>\n",
              "    </tr>\n",
              "    <tr>\n",
              "      <th>761</th>\n",
              "      <td>60312</td>\n",
              "      <td>0.2900</td>\n",
              "      <td>1.480</td>\n",
              "      <td>0.0800</td>\n",
              "      <td>NaN</td>\n",
              "    </tr>\n",
              "    <tr>\n",
              "      <th>859</th>\n",
              "      <td>62370</td>\n",
              "      <td>0.2800</td>\n",
              "      <td>1.100</td>\n",
              "      <td>0.1200</td>\n",
              "      <td>NaN</td>\n",
              "    </tr>\n",
              "    <tr>\n",
              "      <th>912</th>\n",
              "      <td>63483</td>\n",
              "      <td>0.2150</td>\n",
              "      <td>0.392</td>\n",
              "      <td>0.0450</td>\n",
              "      <td>NaN</td>\n",
              "    </tr>\n",
              "    <tr>\n",
              "      <th>995</th>\n",
              "      <td>65226</td>\n",
              "      <td>0.1300</td>\n",
              "      <td>NaN</td>\n",
              "      <td>0.0600</td>\n",
              "      <td>0.0600</td>\n",
              "    </tr>\n",
              "    <tr>\n",
              "      <th>1028</th>\n",
              "      <td>65919</td>\n",
              "      <td>0.0600</td>\n",
              "      <td>0.404</td>\n",
              "      <td>NaN</td>\n",
              "      <td>0.1300</td>\n",
              "    </tr>\n",
              "    <tr>\n",
              "      <th>1125</th>\n",
              "      <td>67956</td>\n",
              "      <td>0.0800</td>\n",
              "      <td>0.534</td>\n",
              "      <td>NaN</td>\n",
              "      <td>0.1550</td>\n",
              "    </tr>\n",
              "    <tr>\n",
              "      <th>1160</th>\n",
              "      <td>68691</td>\n",
              "      <td>0.1500</td>\n",
              "      <td>NaN</td>\n",
              "      <td>0.0750</td>\n",
              "      <td>0.0750</td>\n",
              "    </tr>\n",
              "    <tr>\n",
              "      <th>1232</th>\n",
              "      <td>70203</td>\n",
              "      <td>0.1800</td>\n",
              "      <td>0.368</td>\n",
              "      <td>NaN</td>\n",
              "      <td>0.1400</td>\n",
              "    </tr>\n",
              "    <tr>\n",
              "      <th>1278</th>\n",
              "      <td>71169</td>\n",
              "      <td>NaN</td>\n",
              "      <td>1.060</td>\n",
              "      <td>0.0800</td>\n",
              "      <td>0.0800</td>\n",
              "    </tr>\n",
              "    <tr>\n",
              "      <th>1326</th>\n",
              "      <td>72177</td>\n",
              "      <td>NaN</td>\n",
              "      <td>0.100</td>\n",
              "      <td>0.1250</td>\n",
              "      <td>0.1600</td>\n",
              "    </tr>\n",
              "    <tr>\n",
              "      <th>1370</th>\n",
              "      <td>73101</td>\n",
              "      <td>0.0900</td>\n",
              "      <td>0.102</td>\n",
              "      <td>NaN</td>\n",
              "      <td>0.1250</td>\n",
              "    </tr>\n",
              "    <tr>\n",
              "      <th>1443</th>\n",
              "      <td>74634</td>\n",
              "      <td>0.2200</td>\n",
              "      <td>0.600</td>\n",
              "      <td>0.0620</td>\n",
              "      <td>NaN</td>\n",
              "    </tr>\n",
              "    <tr>\n",
              "      <th>1533</th>\n",
              "      <td>76524</td>\n",
              "      <td>0.2500</td>\n",
              "      <td>NaN</td>\n",
              "      <td>0.0550</td>\n",
              "      <td>0.1950</td>\n",
              "    </tr>\n",
              "    <tr>\n",
              "      <th>1570</th>\n",
              "      <td>77301</td>\n",
              "      <td>0.0100</td>\n",
              "      <td>NaN</td>\n",
              "      <td>0.1100</td>\n",
              "      <td>0.2100</td>\n",
              "    </tr>\n",
              "    <tr>\n",
              "      <th>1702</th>\n",
              "      <td>80073</td>\n",
              "      <td>0.1600</td>\n",
              "      <td>NaN</td>\n",
              "      <td>0.0900</td>\n",
              "      <td>0.0900</td>\n",
              "    </tr>\n",
              "    <tr>\n",
              "      <th>1729</th>\n",
              "      <td>80640</td>\n",
              "      <td>0.1600</td>\n",
              "      <td>0.380</td>\n",
              "      <td>NaN</td>\n",
              "      <td>0.0800</td>\n",
              "    </tr>\n",
              "    <tr>\n",
              "      <th>1799</th>\n",
              "      <td>82110</td>\n",
              "      <td>0.0450</td>\n",
              "      <td>0.147</td>\n",
              "      <td>0.1150</td>\n",
              "      <td>NaN</td>\n",
              "    </tr>\n",
              "    <tr>\n",
              "      <th>1889</th>\n",
              "      <td>84000</td>\n",
              "      <td>0.2600</td>\n",
              "      <td>0.201</td>\n",
              "      <td>NaN</td>\n",
              "      <td>0.2000</td>\n",
              "    </tr>\n",
              "    <tr>\n",
              "      <th>1946</th>\n",
              "      <td>85197</td>\n",
              "      <td>NaN</td>\n",
              "      <td>0.780</td>\n",
              "      <td>0.0900</td>\n",
              "      <td>0.0900</td>\n",
              "    </tr>\n",
              "    <tr>\n",
              "      <th>2137</th>\n",
              "      <td>89208</td>\n",
              "      <td>0.0762</td>\n",
              "      <td>0.810</td>\n",
              "      <td>0.1651</td>\n",
              "      <td>NaN</td>\n",
              "    </tr>\n",
              "    <tr>\n",
              "      <th>3019</th>\n",
              "      <td>128520</td>\n",
              "      <td>NaN</td>\n",
              "      <td>0.454</td>\n",
              "      <td>0.0400</td>\n",
              "      <td>0.0700</td>\n",
              "    </tr>\n",
              "  </tbody>\n",
              "</table>\n",
              "</div>"
            ],
            "text/plain": [
              "      Product Id  height_int  weight_int  width_int  length_int\n",
              "33         45024      0.0762         NaN     0.2286      0.1143\n",
              "46         45297      0.0700       0.022     0.1600         NaN\n",
              "94         46305         NaN       1.004     0.1900      0.2600\n",
              "122        46893      0.0300         NaN     0.1200      0.1600\n",
              "157        47628         NaN       0.144     0.0500      0.0600\n",
              "188        48279      0.1524         NaN     0.0900      0.1400\n",
              "236        49287      0.1300       0.278        NaN      0.1300\n",
              "284        50295      0.0000       0.000     0.0000         NaN\n",
              "285        50316      0.0300       0.005     0.0900         NaN\n",
              "353        51744      0.0000       0.000     0.0000         NaN\n",
              "381        52332         NaN       1.900     0.1000      0.1000\n",
              "424        53235      0.1020         NaN     0.0800      0.0800\n",
              "552        55923      0.0200       0.012     0.0100         NaN\n",
              "614        57225      0.0200       0.766        NaN      0.2200\n",
              "671        58422      0.0500         NaN     0.0900      0.0900\n",
              "708        59199         NaN       0.072     0.0650      0.1350\n",
              "727        59598      0.1400       0.130        NaN      0.0600\n",
              "761        60312      0.2900       1.480     0.0800         NaN\n",
              "859        62370      0.2800       1.100     0.1200         NaN\n",
              "912        63483      0.2150       0.392     0.0450         NaN\n",
              "995        65226      0.1300         NaN     0.0600      0.0600\n",
              "1028       65919      0.0600       0.404        NaN      0.1300\n",
              "1125       67956      0.0800       0.534        NaN      0.1550\n",
              "1160       68691      0.1500         NaN     0.0750      0.0750\n",
              "1232       70203      0.1800       0.368        NaN      0.1400\n",
              "1278       71169         NaN       1.060     0.0800      0.0800\n",
              "1326       72177         NaN       0.100     0.1250      0.1600\n",
              "1370       73101      0.0900       0.102        NaN      0.1250\n",
              "1443       74634      0.2200       0.600     0.0620         NaN\n",
              "1533       76524      0.2500         NaN     0.0550      0.1950\n",
              "1570       77301      0.0100         NaN     0.1100      0.2100\n",
              "1702       80073      0.1600         NaN     0.0900      0.0900\n",
              "1729       80640      0.1600       0.380        NaN      0.0800\n",
              "1799       82110      0.0450       0.147     0.1150         NaN\n",
              "1889       84000      0.2600       0.201        NaN      0.2000\n",
              "1946       85197         NaN       0.780     0.0900      0.0900\n",
              "2137       89208      0.0762       0.810     0.1651         NaN\n",
              "3019      128520         NaN       0.454     0.0400      0.0700"
            ]
          },
          "metadata": {
            "tags": []
          },
          "execution_count": 10
        }
      ]
    },
    {
      "cell_type": "code",
      "metadata": {
        "colab": {
          "base_uri": "https://localhost:8080/",
          "height": 49
        },
        "id": "gby70hlSSgoO",
        "outputId": "ec17936c-a1db-46a5-9871-3dba69ccc581"
      },
      "source": [
        "df[df.isna().all(axis=1)]  #There are no rows with all 'NaN' Value"
      ],
      "execution_count": null,
      "outputs": [
        {
          "output_type": "execute_result",
          "data": {
            "text/html": [
              "<div>\n",
              "<style scoped>\n",
              "    .dataframe tbody tr th:only-of-type {\n",
              "        vertical-align: middle;\n",
              "    }\n",
              "\n",
              "    .dataframe tbody tr th {\n",
              "        vertical-align: top;\n",
              "    }\n",
              "\n",
              "    .dataframe thead th {\n",
              "        text-align: right;\n",
              "    }\n",
              "</style>\n",
              "<table border=\"1\" class=\"dataframe\">\n",
              "  <thead>\n",
              "    <tr style=\"text-align: right;\">\n",
              "      <th></th>\n",
              "      <th>Product Id</th>\n",
              "      <th>height_int</th>\n",
              "      <th>weight_int</th>\n",
              "      <th>width_int</th>\n",
              "      <th>length_int</th>\n",
              "    </tr>\n",
              "  </thead>\n",
              "  <tbody>\n",
              "  </tbody>\n",
              "</table>\n",
              "</div>"
            ],
            "text/plain": [
              "Empty DataFrame\n",
              "Columns: [Product Id, height_int, weight_int, width_int, length_int]\n",
              "Index: []"
            ]
          },
          "metadata": {
            "tags": []
          },
          "execution_count": 11
        }
      ]
    },
    {
      "cell_type": "code",
      "metadata": {
        "id": "h-c9uU_LT3RE"
      },
      "source": [
        "df_copy= df.copy() #making sure the original clean data is not accidentally altered"
      ],
      "execution_count": null,
      "outputs": []
    },
    {
      "cell_type": "code",
      "metadata": {
        "colab": {
          "base_uri": "https://localhost:8080/",
          "height": 204
        },
        "id": "cnuOYHFiVKwz",
        "outputId": "9ad35e8d-982c-4af0-869a-4aa361d19092"
      },
      "source": [
        "df_copy.head()"
      ],
      "execution_count": null,
      "outputs": [
        {
          "output_type": "execute_result",
          "data": {
            "text/html": [
              "<div>\n",
              "<style scoped>\n",
              "    .dataframe tbody tr th:only-of-type {\n",
              "        vertical-align: middle;\n",
              "    }\n",
              "\n",
              "    .dataframe tbody tr th {\n",
              "        vertical-align: top;\n",
              "    }\n",
              "\n",
              "    .dataframe thead th {\n",
              "        text-align: right;\n",
              "    }\n",
              "</style>\n",
              "<table border=\"1\" class=\"dataframe\">\n",
              "  <thead>\n",
              "    <tr style=\"text-align: right;\">\n",
              "      <th></th>\n",
              "      <th>Product Id</th>\n",
              "      <th>height_int</th>\n",
              "      <th>weight_int</th>\n",
              "      <th>width_int</th>\n",
              "      <th>length_int</th>\n",
              "    </tr>\n",
              "  </thead>\n",
              "  <tbody>\n",
              "    <tr>\n",
              "      <th>0</th>\n",
              "      <td>44331</td>\n",
              "      <td>0.0508</td>\n",
              "      <td>1.0250</td>\n",
              "      <td>0.1524</td>\n",
              "      <td>0.2286</td>\n",
              "    </tr>\n",
              "    <tr>\n",
              "      <th>1</th>\n",
              "      <td>44352</td>\n",
              "      <td>0.1600</td>\n",
              "      <td>0.5040</td>\n",
              "      <td>0.0400</td>\n",
              "      <td>0.1400</td>\n",
              "    </tr>\n",
              "    <tr>\n",
              "      <th>2</th>\n",
              "      <td>44373</td>\n",
              "      <td>0.0750</td>\n",
              "      <td>0.4880</td>\n",
              "      <td>0.1050</td>\n",
              "      <td>0.1050</td>\n",
              "    </tr>\n",
              "    <tr>\n",
              "      <th>3</th>\n",
              "      <td>44394</td>\n",
              "      <td>0.1500</td>\n",
              "      <td>1.0028</td>\n",
              "      <td>0.1100</td>\n",
              "      <td>0.1100</td>\n",
              "    </tr>\n",
              "    <tr>\n",
              "      <th>4</th>\n",
              "      <td>44415</td>\n",
              "      <td>0.1100</td>\n",
              "      <td>0.5500</td>\n",
              "      <td>0.1300</td>\n",
              "      <td>0.1300</td>\n",
              "    </tr>\n",
              "  </tbody>\n",
              "</table>\n",
              "</div>"
            ],
            "text/plain": [
              "   Product Id  height_int  weight_int  width_int  length_int\n",
              "0       44331      0.0508      1.0250     0.1524      0.2286\n",
              "1       44352      0.1600      0.5040     0.0400      0.1400\n",
              "2       44373      0.0750      0.4880     0.1050      0.1050\n",
              "3       44394      0.1500      1.0028     0.1100      0.1100\n",
              "4       44415      0.1100      0.5500     0.1300      0.1300"
            ]
          },
          "metadata": {
            "tags": []
          },
          "execution_count": 13
        }
      ]
    },
    {
      "cell_type": "markdown",
      "metadata": {
        "id": "-SWS82FjXHWD"
      },
      "source": [
        "Keeping a Copy to ensure no data is accidently lost, hampered etc. "
      ]
    },
    {
      "cell_type": "markdown",
      "metadata": {
        "id": "KHk1R_ynZYLU"
      },
      "source": [
        "**For handling NaN Values, I have chosen the Forward and Backward Fill Solution.**"
      ]
    },
    {
      "cell_type": "code",
      "metadata": {
        "colab": {
          "base_uri": "https://localhost:8080/"
        },
        "id": "yzYhTHWLWS3n",
        "outputId": "6fcbcb14-5be2-4a9c-c1d9-ed9ca2ba71c6"
      },
      "source": [
        "df_copy['height_int_no_na'] = df['height_int'].fillna(method='ffill').fillna(method='bfill')\n",
        "df_copy['height_int_no_na'].isnull().values.any() "
      ],
      "execution_count": null,
      "outputs": [
        {
          "output_type": "execute_result",
          "data": {
            "text/plain": [
              "False"
            ]
          },
          "metadata": {
            "tags": []
          },
          "execution_count": 14
        }
      ]
    },
    {
      "cell_type": "code",
      "metadata": {
        "colab": {
          "base_uri": "https://localhost:8080/"
        },
        "id": "8F5FGrk3Z-3-",
        "outputId": "7d3b82e2-87f7-4aba-8fd4-17ef3af3b664"
      },
      "source": [
        "df_copy['weight_int_no_na'] = df['weight_int'].fillna(method='ffill').fillna(method='bfill')\n",
        "df_copy['weight_int_no_na'].isnull().values.any()  #Checking if the NaN values exist after forward-backward fill"
      ],
      "execution_count": null,
      "outputs": [
        {
          "output_type": "execute_result",
          "data": {
            "text/plain": [
              "False"
            ]
          },
          "metadata": {
            "tags": []
          },
          "execution_count": 15
        }
      ]
    },
    {
      "cell_type": "code",
      "metadata": {
        "colab": {
          "base_uri": "https://localhost:8080/"
        },
        "id": "BivG6BdMaDzI",
        "outputId": "3cf1344c-d041-44e9-da25-26f61e681ed3"
      },
      "source": [
        "df_copy['length_int_no_na'] = df['length_int'].fillna(method='ffill').fillna(method='bfill')\n",
        "df_copy['length_int_no_na'].isnull().values.any()  #Checking if the NaN values exist after forward-backward fill"
      ],
      "execution_count": null,
      "outputs": [
        {
          "output_type": "execute_result",
          "data": {
            "text/plain": [
              "False"
            ]
          },
          "metadata": {
            "tags": []
          },
          "execution_count": 16
        }
      ]
    },
    {
      "cell_type": "code",
      "metadata": {
        "colab": {
          "base_uri": "https://localhost:8080/"
        },
        "id": "jr2imi1haQHK",
        "outputId": "fd3d890c-7f69-4290-fdd9-b2e3d58211f2"
      },
      "source": [
        "df_copy['width_int_no_na'] = df['width_int'].fillna(method='ffill').fillna(method='bfill')\n",
        "df_copy['width_int_no_na'].isnull().values.any()  #Checking if the NaN values exist after forward-backward fill"
      ],
      "execution_count": null,
      "outputs": [
        {
          "output_type": "execute_result",
          "data": {
            "text/plain": [
              "False"
            ]
          },
          "metadata": {
            "tags": []
          },
          "execution_count": 17
        }
      ]
    },
    {
      "cell_type": "markdown",
      "metadata": {
        "id": "Os1vzKZN8Q1R"
      },
      "source": [
        "Dropping columns that are not needed"
      ]
    },
    {
      "cell_type": "code",
      "metadata": {
        "id": "EVt7mNpUanND"
      },
      "source": [
        "df_copy.drop(columns=['height_int', 'weight_int', 'width_int', 'length_int'], inplace=True)"
      ],
      "execution_count": null,
      "outputs": []
    },
    {
      "cell_type": "code",
      "metadata": {
        "colab": {
          "base_uri": "https://localhost:8080/",
          "height": 359
        },
        "id": "HWR34rbiWwlY",
        "outputId": "7518c842-f5a4-4d57-888c-df58e050bf26"
      },
      "source": [
        "df_copy.head(10)"
      ],
      "execution_count": null,
      "outputs": [
        {
          "output_type": "execute_result",
          "data": {
            "text/html": [
              "<div>\n",
              "<style scoped>\n",
              "    .dataframe tbody tr th:only-of-type {\n",
              "        vertical-align: middle;\n",
              "    }\n",
              "\n",
              "    .dataframe tbody tr th {\n",
              "        vertical-align: top;\n",
              "    }\n",
              "\n",
              "    .dataframe thead th {\n",
              "        text-align: right;\n",
              "    }\n",
              "</style>\n",
              "<table border=\"1\" class=\"dataframe\">\n",
              "  <thead>\n",
              "    <tr style=\"text-align: right;\">\n",
              "      <th></th>\n",
              "      <th>Product Id</th>\n",
              "      <th>height_int_no_na</th>\n",
              "      <th>weight_int_no_na</th>\n",
              "      <th>length_int_no_na</th>\n",
              "      <th>width_int_no_na</th>\n",
              "    </tr>\n",
              "  </thead>\n",
              "  <tbody>\n",
              "    <tr>\n",
              "      <th>0</th>\n",
              "      <td>44331</td>\n",
              "      <td>0.0508</td>\n",
              "      <td>1.0250</td>\n",
              "      <td>0.2286</td>\n",
              "      <td>0.1524</td>\n",
              "    </tr>\n",
              "    <tr>\n",
              "      <th>1</th>\n",
              "      <td>44352</td>\n",
              "      <td>0.1600</td>\n",
              "      <td>0.5040</td>\n",
              "      <td>0.1400</td>\n",
              "      <td>0.0400</td>\n",
              "    </tr>\n",
              "    <tr>\n",
              "      <th>2</th>\n",
              "      <td>44373</td>\n",
              "      <td>0.0750</td>\n",
              "      <td>0.4880</td>\n",
              "      <td>0.1050</td>\n",
              "      <td>0.1050</td>\n",
              "    </tr>\n",
              "    <tr>\n",
              "      <th>3</th>\n",
              "      <td>44394</td>\n",
              "      <td>0.1500</td>\n",
              "      <td>1.0028</td>\n",
              "      <td>0.1100</td>\n",
              "      <td>0.1100</td>\n",
              "    </tr>\n",
              "    <tr>\n",
              "      <th>4</th>\n",
              "      <td>44415</td>\n",
              "      <td>0.1100</td>\n",
              "      <td>0.5500</td>\n",
              "      <td>0.1300</td>\n",
              "      <td>0.1300</td>\n",
              "    </tr>\n",
              "    <tr>\n",
              "      <th>5</th>\n",
              "      <td>44436</td>\n",
              "      <td>0.2600</td>\n",
              "      <td>0.0450</td>\n",
              "      <td>0.0800</td>\n",
              "      <td>0.0800</td>\n",
              "    </tr>\n",
              "    <tr>\n",
              "      <th>6</th>\n",
              "      <td>44457</td>\n",
              "      <td>0.0300</td>\n",
              "      <td>0.2240</td>\n",
              "      <td>0.1500</td>\n",
              "      <td>0.1300</td>\n",
              "    </tr>\n",
              "    <tr>\n",
              "      <th>7</th>\n",
              "      <td>44478</td>\n",
              "      <td>0.1400</td>\n",
              "      <td>0.2460</td>\n",
              "      <td>0.1300</td>\n",
              "      <td>0.0300</td>\n",
              "    </tr>\n",
              "    <tr>\n",
              "      <th>8</th>\n",
              "      <td>44499</td>\n",
              "      <td>0.0400</td>\n",
              "      <td>2.0030</td>\n",
              "      <td>0.3600</td>\n",
              "      <td>0.2600</td>\n",
              "    </tr>\n",
              "    <tr>\n",
              "      <th>9</th>\n",
              "      <td>44520</td>\n",
              "      <td>0.0500</td>\n",
              "      <td>1.0018</td>\n",
              "      <td>0.2800</td>\n",
              "      <td>0.2100</td>\n",
              "    </tr>\n",
              "  </tbody>\n",
              "</table>\n",
              "</div>"
            ],
            "text/plain": [
              "   Product Id  height_int_no_na  ...  length_int_no_na  width_int_no_na\n",
              "0       44331            0.0508  ...            0.2286           0.1524\n",
              "1       44352            0.1600  ...            0.1400           0.0400\n",
              "2       44373            0.0750  ...            0.1050           0.1050\n",
              "3       44394            0.1500  ...            0.1100           0.1100\n",
              "4       44415            0.1100  ...            0.1300           0.1300\n",
              "5       44436            0.2600  ...            0.0800           0.0800\n",
              "6       44457            0.0300  ...            0.1500           0.1300\n",
              "7       44478            0.1400  ...            0.1300           0.0300\n",
              "8       44499            0.0400  ...            0.3600           0.2600\n",
              "9       44520            0.0500  ...            0.2800           0.2100\n",
              "\n",
              "[10 rows x 5 columns]"
            ]
          },
          "metadata": {
            "tags": []
          },
          "execution_count": 49
        }
      ]
    },
    {
      "cell_type": "code",
      "metadata": {
        "colab": {
          "base_uri": "https://localhost:8080/"
        },
        "id": "XuZJ6AzHbBLz",
        "outputId": "4e7c3f7e-7d31-4e65-b171-5223af386da9"
      },
      "source": [
        "df_copy.isnull().values.any() #Checking if the Dataframe has any NaN values left"
      ],
      "execution_count": null,
      "outputs": [
        {
          "output_type": "execute_result",
          "data": {
            "text/plain": [
              "False"
            ]
          },
          "metadata": {
            "tags": []
          },
          "execution_count": 19
        }
      ]
    },
    {
      "cell_type": "markdown",
      "metadata": {
        "id": "9F19Mk1vcSdt"
      },
      "source": [
        "**The Data is clean of NaN values entirely. Now to handle zero  entries. To replace the zero values, mean of the column is taken and replaced.**"
      ]
    },
    {
      "cell_type": "code",
      "metadata": {
        "colab": {
          "base_uri": "https://localhost:8080/"
        },
        "id": "W9b93GhH1obZ",
        "outputId": "a9e3c7d1-0287-4786-c854-ac194e632141"
      },
      "source": [
        "df_copy.all() #Checking if zero value does not exist"
      ],
      "execution_count": null,
      "outputs": [
        {
          "output_type": "execute_result",
          "data": {
            "text/plain": [
              "Product Id           True\n",
              "height_int_no_na    False\n",
              "weight_int_no_na    False\n",
              "length_int_no_na    False\n",
              "width_int_no_na     False\n",
              "dtype: bool"
            ]
          },
          "metadata": {
            "tags": []
          },
          "execution_count": 20
        }
      ]
    },
    {
      "cell_type": "markdown",
      "metadata": {
        "id": "kuv_S2WM8jjH"
      },
      "source": [
        "Above code shows that apart from the Product ID, all columns have 0 values"
      ]
    },
    {
      "cell_type": "markdown",
      "metadata": {
        "id": "1yaduyNZ6G15"
      },
      "source": [
        "Taking all the 0 values from the respective columns and replacing them with the Median value of the Column. "
      ]
    },
    {
      "cell_type": "code",
      "metadata": {
        "colab": {
          "base_uri": "https://localhost:8080/",
          "height": 419
        },
        "id": "-YYwXQ1A4hU7",
        "outputId": "971ed41d-4cb2-4a8d-88a6-304d03350622"
      },
      "source": [
        "df_copy[['height', 'weight', 'length', 'width']]=df_copy[['height_int_no_na', 'weight_int_no_na', 'length_int_no_na', 'width_int_no_na']].mask(df_copy[['height_int_no_na', 'weight_int_no_na', 'length_int_no_na', 'width_int_no_na']]==0).fillna(df_copy[['height_int_no_na', 'weight_int_no_na', 'length_int_no_na', 'width_int_no_na']].median())\n",
        "df_copy"
      ],
      "execution_count": null,
      "outputs": [
        {
          "output_type": "execute_result",
          "data": {
            "text/html": [
              "<div>\n",
              "<style scoped>\n",
              "    .dataframe tbody tr th:only-of-type {\n",
              "        vertical-align: middle;\n",
              "    }\n",
              "\n",
              "    .dataframe tbody tr th {\n",
              "        vertical-align: top;\n",
              "    }\n",
              "\n",
              "    .dataframe thead th {\n",
              "        text-align: right;\n",
              "    }\n",
              "</style>\n",
              "<table border=\"1\" class=\"dataframe\">\n",
              "  <thead>\n",
              "    <tr style=\"text-align: right;\">\n",
              "      <th></th>\n",
              "      <th>Product Id</th>\n",
              "      <th>height_int_no_na</th>\n",
              "      <th>weight_int_no_na</th>\n",
              "      <th>length_int_no_na</th>\n",
              "      <th>width_int_no_na</th>\n",
              "      <th>height</th>\n",
              "      <th>weight</th>\n",
              "      <th>length</th>\n",
              "      <th>width</th>\n",
              "    </tr>\n",
              "  </thead>\n",
              "  <tbody>\n",
              "    <tr>\n",
              "      <th>0</th>\n",
              "      <td>44331</td>\n",
              "      <td>0.0508</td>\n",
              "      <td>1.0250</td>\n",
              "      <td>0.2286</td>\n",
              "      <td>0.1524</td>\n",
              "      <td>0.0508</td>\n",
              "      <td>1.02500</td>\n",
              "      <td>0.22860</td>\n",
              "      <td>0.1524</td>\n",
              "    </tr>\n",
              "    <tr>\n",
              "      <th>1</th>\n",
              "      <td>44352</td>\n",
              "      <td>0.1600</td>\n",
              "      <td>0.5040</td>\n",
              "      <td>0.1400</td>\n",
              "      <td>0.0400</td>\n",
              "      <td>0.1600</td>\n",
              "      <td>0.50400</td>\n",
              "      <td>0.14000</td>\n",
              "      <td>0.0400</td>\n",
              "    </tr>\n",
              "    <tr>\n",
              "      <th>2</th>\n",
              "      <td>44373</td>\n",
              "      <td>0.0750</td>\n",
              "      <td>0.4880</td>\n",
              "      <td>0.1050</td>\n",
              "      <td>0.1050</td>\n",
              "      <td>0.0750</td>\n",
              "      <td>0.48800</td>\n",
              "      <td>0.10500</td>\n",
              "      <td>0.1050</td>\n",
              "    </tr>\n",
              "    <tr>\n",
              "      <th>3</th>\n",
              "      <td>44394</td>\n",
              "      <td>0.1500</td>\n",
              "      <td>1.0028</td>\n",
              "      <td>0.1100</td>\n",
              "      <td>0.1100</td>\n",
              "      <td>0.1500</td>\n",
              "      <td>1.00280</td>\n",
              "      <td>0.11000</td>\n",
              "      <td>0.1100</td>\n",
              "    </tr>\n",
              "    <tr>\n",
              "      <th>4</th>\n",
              "      <td>44415</td>\n",
              "      <td>0.1100</td>\n",
              "      <td>0.5500</td>\n",
              "      <td>0.1300</td>\n",
              "      <td>0.1300</td>\n",
              "      <td>0.1100</td>\n",
              "      <td>0.55000</td>\n",
              "      <td>0.13000</td>\n",
              "      <td>0.1300</td>\n",
              "    </tr>\n",
              "    <tr>\n",
              "      <th>...</th>\n",
              "      <td>...</td>\n",
              "      <td>...</td>\n",
              "      <td>...</td>\n",
              "      <td>...</td>\n",
              "      <td>...</td>\n",
              "      <td>...</td>\n",
              "      <td>...</td>\n",
              "      <td>...</td>\n",
              "      <td>...</td>\n",
              "    </tr>\n",
              "    <tr>\n",
              "      <th>3053</th>\n",
              "      <td>129234</td>\n",
              "      <td>0.0300</td>\n",
              "      <td>0.0061</td>\n",
              "      <td>0.1300</td>\n",
              "      <td>0.0500</td>\n",
              "      <td>0.0300</td>\n",
              "      <td>0.00610</td>\n",
              "      <td>0.13000</td>\n",
              "      <td>0.0500</td>\n",
              "    </tr>\n",
              "    <tr>\n",
              "      <th>3054</th>\n",
              "      <td>129255</td>\n",
              "      <td>0.1600</td>\n",
              "      <td>0.0114</td>\n",
              "      <td>0.0600</td>\n",
              "      <td>0.0300</td>\n",
              "      <td>0.1600</td>\n",
              "      <td>0.01140</td>\n",
              "      <td>0.06000</td>\n",
              "      <td>0.0300</td>\n",
              "    </tr>\n",
              "    <tr>\n",
              "      <th>3055</th>\n",
              "      <td>129276</td>\n",
              "      <td>0.1950</td>\n",
              "      <td>0.3000</td>\n",
              "      <td>0.0600</td>\n",
              "      <td>0.0420</td>\n",
              "      <td>0.1950</td>\n",
              "      <td>0.30000</td>\n",
              "      <td>0.06000</td>\n",
              "      <td>0.0420</td>\n",
              "    </tr>\n",
              "    <tr>\n",
              "      <th>3056</th>\n",
              "      <td>129297</td>\n",
              "      <td>0.0000</td>\n",
              "      <td>0.0000</td>\n",
              "      <td>0.0000</td>\n",
              "      <td>0.0000</td>\n",
              "      <td>0.0100</td>\n",
              "      <td>0.00575</td>\n",
              "      <td>0.01625</td>\n",
              "      <td>0.0050</td>\n",
              "    </tr>\n",
              "    <tr>\n",
              "      <th>3057</th>\n",
              "      <td>129318</td>\n",
              "      <td>0.2350</td>\n",
              "      <td>0.7980</td>\n",
              "      <td>0.1150</td>\n",
              "      <td>0.0500</td>\n",
              "      <td>0.2350</td>\n",
              "      <td>0.79800</td>\n",
              "      <td>0.11500</td>\n",
              "      <td>0.0500</td>\n",
              "    </tr>\n",
              "  </tbody>\n",
              "</table>\n",
              "<p>3058 rows × 9 columns</p>\n",
              "</div>"
            ],
            "text/plain": [
              "      Product Id  height_int_no_na  weight_int_no_na  ...   weight   length   width\n",
              "0          44331            0.0508            1.0250  ...  1.02500  0.22860  0.1524\n",
              "1          44352            0.1600            0.5040  ...  0.50400  0.14000  0.0400\n",
              "2          44373            0.0750            0.4880  ...  0.48800  0.10500  0.1050\n",
              "3          44394            0.1500            1.0028  ...  1.00280  0.11000  0.1100\n",
              "4          44415            0.1100            0.5500  ...  0.55000  0.13000  0.1300\n",
              "...          ...               ...               ...  ...      ...      ...     ...\n",
              "3053      129234            0.0300            0.0061  ...  0.00610  0.13000  0.0500\n",
              "3054      129255            0.1600            0.0114  ...  0.01140  0.06000  0.0300\n",
              "3055      129276            0.1950            0.3000  ...  0.30000  0.06000  0.0420\n",
              "3056      129297            0.0000            0.0000  ...  0.00575  0.01625  0.0050\n",
              "3057      129318            0.2350            0.7980  ...  0.79800  0.11500  0.0500\n",
              "\n",
              "[3058 rows x 9 columns]"
            ]
          },
          "metadata": {
            "tags": []
          },
          "execution_count": 21
        }
      ]
    },
    {
      "cell_type": "code",
      "metadata": {
        "colab": {
          "base_uri": "https://localhost:8080/"
        },
        "id": "IW4M0pq5WFOr",
        "outputId": "b7294b95-3149-49fc-d58a-9b267855b561"
      },
      "source": [
        "df_copy.all() #Shows the previous columns have 0 values and new columns does not contain 0 values. "
      ],
      "execution_count": null,
      "outputs": [
        {
          "output_type": "execute_result",
          "data": {
            "text/plain": [
              "Product Id           True\n",
              "height_int_no_na    False\n",
              "weight_int_no_na    False\n",
              "length_int_no_na    False\n",
              "width_int_no_na     False\n",
              "height               True\n",
              "weight               True\n",
              "length               True\n",
              "width                True\n",
              "dtype: bool"
            ]
          },
          "metadata": {
            "tags": []
          },
          "execution_count": 22
        }
      ]
    },
    {
      "cell_type": "code",
      "metadata": {
        "colab": {
          "base_uri": "https://localhost:8080/",
          "height": 419
        },
        "id": "3AtG-NsVWLjf",
        "outputId": "3db801ae-c849-4c7f-a3d7-fbaf88557a35"
      },
      "source": [
        "#Dropping the previous columns with 0 values\n",
        "df_copy.drop(columns=['height_int_no_na', 'weight_int_no_na', 'length_int_no_na', 'width_int_no_na'], inplace=True)\n",
        "df_copy"
      ],
      "execution_count": null,
      "outputs": [
        {
          "output_type": "execute_result",
          "data": {
            "text/html": [
              "<div>\n",
              "<style scoped>\n",
              "    .dataframe tbody tr th:only-of-type {\n",
              "        vertical-align: middle;\n",
              "    }\n",
              "\n",
              "    .dataframe tbody tr th {\n",
              "        vertical-align: top;\n",
              "    }\n",
              "\n",
              "    .dataframe thead th {\n",
              "        text-align: right;\n",
              "    }\n",
              "</style>\n",
              "<table border=\"1\" class=\"dataframe\">\n",
              "  <thead>\n",
              "    <tr style=\"text-align: right;\">\n",
              "      <th></th>\n",
              "      <th>Product Id</th>\n",
              "      <th>height</th>\n",
              "      <th>weight</th>\n",
              "      <th>length</th>\n",
              "      <th>width</th>\n",
              "    </tr>\n",
              "  </thead>\n",
              "  <tbody>\n",
              "    <tr>\n",
              "      <th>0</th>\n",
              "      <td>44331</td>\n",
              "      <td>0.0508</td>\n",
              "      <td>1.02500</td>\n",
              "      <td>0.22860</td>\n",
              "      <td>0.1524</td>\n",
              "    </tr>\n",
              "    <tr>\n",
              "      <th>1</th>\n",
              "      <td>44352</td>\n",
              "      <td>0.1600</td>\n",
              "      <td>0.50400</td>\n",
              "      <td>0.14000</td>\n",
              "      <td>0.0400</td>\n",
              "    </tr>\n",
              "    <tr>\n",
              "      <th>2</th>\n",
              "      <td>44373</td>\n",
              "      <td>0.0750</td>\n",
              "      <td>0.48800</td>\n",
              "      <td>0.10500</td>\n",
              "      <td>0.1050</td>\n",
              "    </tr>\n",
              "    <tr>\n",
              "      <th>3</th>\n",
              "      <td>44394</td>\n",
              "      <td>0.1500</td>\n",
              "      <td>1.00280</td>\n",
              "      <td>0.11000</td>\n",
              "      <td>0.1100</td>\n",
              "    </tr>\n",
              "    <tr>\n",
              "      <th>4</th>\n",
              "      <td>44415</td>\n",
              "      <td>0.1100</td>\n",
              "      <td>0.55000</td>\n",
              "      <td>0.13000</td>\n",
              "      <td>0.1300</td>\n",
              "    </tr>\n",
              "    <tr>\n",
              "      <th>...</th>\n",
              "      <td>...</td>\n",
              "      <td>...</td>\n",
              "      <td>...</td>\n",
              "      <td>...</td>\n",
              "      <td>...</td>\n",
              "    </tr>\n",
              "    <tr>\n",
              "      <th>3053</th>\n",
              "      <td>129234</td>\n",
              "      <td>0.0300</td>\n",
              "      <td>0.00610</td>\n",
              "      <td>0.13000</td>\n",
              "      <td>0.0500</td>\n",
              "    </tr>\n",
              "    <tr>\n",
              "      <th>3054</th>\n",
              "      <td>129255</td>\n",
              "      <td>0.1600</td>\n",
              "      <td>0.01140</td>\n",
              "      <td>0.06000</td>\n",
              "      <td>0.0300</td>\n",
              "    </tr>\n",
              "    <tr>\n",
              "      <th>3055</th>\n",
              "      <td>129276</td>\n",
              "      <td>0.1950</td>\n",
              "      <td>0.30000</td>\n",
              "      <td>0.06000</td>\n",
              "      <td>0.0420</td>\n",
              "    </tr>\n",
              "    <tr>\n",
              "      <th>3056</th>\n",
              "      <td>129297</td>\n",
              "      <td>0.0100</td>\n",
              "      <td>0.00575</td>\n",
              "      <td>0.01625</td>\n",
              "      <td>0.0050</td>\n",
              "    </tr>\n",
              "    <tr>\n",
              "      <th>3057</th>\n",
              "      <td>129318</td>\n",
              "      <td>0.2350</td>\n",
              "      <td>0.79800</td>\n",
              "      <td>0.11500</td>\n",
              "      <td>0.0500</td>\n",
              "    </tr>\n",
              "  </tbody>\n",
              "</table>\n",
              "<p>3058 rows × 5 columns</p>\n",
              "</div>"
            ],
            "text/plain": [
              "      Product Id  height   weight   length   width\n",
              "0          44331  0.0508  1.02500  0.22860  0.1524\n",
              "1          44352  0.1600  0.50400  0.14000  0.0400\n",
              "2          44373  0.0750  0.48800  0.10500  0.1050\n",
              "3          44394  0.1500  1.00280  0.11000  0.1100\n",
              "4          44415  0.1100  0.55000  0.13000  0.1300\n",
              "...          ...     ...      ...      ...     ...\n",
              "3053      129234  0.0300  0.00610  0.13000  0.0500\n",
              "3054      129255  0.1600  0.01140  0.06000  0.0300\n",
              "3055      129276  0.1950  0.30000  0.06000  0.0420\n",
              "3056      129297  0.0100  0.00575  0.01625  0.0050\n",
              "3057      129318  0.2350  0.79800  0.11500  0.0500\n",
              "\n",
              "[3058 rows x 5 columns]"
            ]
          },
          "metadata": {
            "tags": []
          },
          "execution_count": 23
        }
      ]
    },
    {
      "cell_type": "code",
      "metadata": {
        "colab": {
          "base_uri": "https://localhost:8080/"
        },
        "id": "ij6jfwEnWUSN",
        "outputId": "4537c8c9-cc1c-4b7d-a241-3469639d5a09"
      },
      "source": [
        "df_copy.all() # affirming that none of the columns have 0 values "
      ],
      "execution_count": null,
      "outputs": [
        {
          "output_type": "execute_result",
          "data": {
            "text/plain": [
              "Product Id    True\n",
              "height        True\n",
              "weight        True\n",
              "length        True\n",
              "width         True\n",
              "dtype: bool"
            ]
          },
          "metadata": {
            "tags": []
          },
          "execution_count": 24
        }
      ]
    },
    {
      "cell_type": "code",
      "metadata": {
        "colab": {
          "base_uri": "https://localhost:8080/"
        },
        "id": "ml0xZj3pXZYH",
        "outputId": "3000e761-83a6-4aba-dfe1-c9aa51ce4c2a"
      },
      "source": [
        "df_copy.isnull().values.any() #Checking if the Dataframe has any NaN values left"
      ],
      "execution_count": null,
      "outputs": [
        {
          "output_type": "execute_result",
          "data": {
            "text/plain": [
              "False"
            ]
          },
          "metadata": {
            "tags": []
          },
          "execution_count": 25
        }
      ]
    },
    {
      "cell_type": "markdown",
      "metadata": {
        "id": "zmaI6KOZN7xl"
      },
      "source": [
        "Hence all NaN values, Invalid data and zero values have been handled."
      ]
    },
    {
      "cell_type": "code",
      "metadata": {
        "id": "ViESjvG16xZK"
      },
      "source": [
        ""
      ],
      "execution_count": null,
      "outputs": []
    }
  ]
}